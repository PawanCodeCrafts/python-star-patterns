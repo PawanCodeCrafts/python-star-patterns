{
 "cells": [
  {
   "cell_type": "markdown",
   "id": "2806109e-642f-49bc-add5-090a393044d0",
   "metadata": {},
   "source": [
    "# PATTERNS USING LOOP"
   ]
  },
  {
   "cell_type": "code",
   "execution_count": 17,
   "id": "dff5ee43-0dcd-456e-8226-71f78636d3a5",
   "metadata": {},
   "outputs": [
    {
     "name": "stdout",
     "output_type": "stream",
     "text": [
      "01234\n",
      "01234\n",
      "01234\n",
      "01234\n",
      "01234\n"
     ]
    }
   ],
   "source": [
    "i = 0\n",
    "n = 5\n",
    "while  i < n:\n",
    "    j=0\n",
    "    while j < n:\n",
    "        print(j,end=\"\")\n",
    "        j+=1\n",
    "    print()\n",
    "    i+=1"
   ]
  },
  {
   "cell_type": "code",
   "execution_count": 18,
   "id": "4e5be59e-6e28-43df-bc05-bf69319d3020",
   "metadata": {},
   "outputs": [
    {
     "name": "stdout",
     "output_type": "stream",
     "text": [
      "0\n",
      "11\n",
      "222\n",
      "3333\n",
      "44444\n"
     ]
    }
   ],
   "source": [
    "i = 0\n",
    "n = 5\n",
    "while  i < n:\n",
    "    j=0\n",
    "    while j < i+1:\n",
    "        print(i,end=\"\")\n",
    "        j+=1\n",
    "    print()\n",
    "    i+=1"
   ]
  },
  {
   "cell_type": "code",
   "execution_count": 19,
   "id": "adba9c11-b3e5-41a2-8844-33299a11b654",
   "metadata": {},
   "outputs": [
    {
     "name": "stdout",
     "output_type": "stream",
     "text": [
      "0\n",
      "01\n",
      "012\n",
      "0123\n",
      "01234\n"
     ]
    }
   ],
   "source": [
    "i = 0\n",
    "n = 5\n",
    "while  i < n:\n",
    "    j=0\n",
    "    while j < i+1:\n",
    "        print(j, end=\"\")\n",
    "        j+=1\n",
    "    print()\n",
    "    i+=1"
   ]
  },
  {
   "cell_type": "code",
   "execution_count": 20,
   "id": "2861b0d6-ebe2-40e2-831a-cce71a2b5fb9",
   "metadata": {},
   "outputs": [
    {
     "name": "stdout",
     "output_type": "stream",
     "text": [
      "*\n",
      "**\n",
      "***\n",
      "****\n",
      "*****\n"
     ]
    }
   ],
   "source": [
    "i = 0\n",
    "n = 5\n",
    "while  i < n:\n",
    "    j=0\n",
    "    while j < i+1:\n",
    "        print('*', end=\"\")\n",
    "        j+=1\n",
    "    print()\n",
    "    i+=1"
   ]
  },
  {
   "cell_type": "code",
   "execution_count": 21,
   "id": "875d4fc4-3c0b-4d74-b3c7-547c935ad580",
   "metadata": {},
   "outputs": [
    {
     "name": "stdout",
     "output_type": "stream",
     "text": [
      "55555\n",
      "4444\n",
      "333\n",
      "22\n",
      "1\n"
     ]
    }
   ],
   "source": [
    "i = 0\n",
    "n = 5\n",
    "while  i < n:\n",
    "    j=0\n",
    "    while j < n-i:\n",
    "        print(n-i, end=\"\")\n",
    "        j+=1\n",
    "    print()\n",
    "    i+=1"
   ]
  },
  {
   "cell_type": "code",
   "execution_count": 22,
   "id": "6891faa6-fc83-43c7-990d-77b0711e7b3f",
   "metadata": {},
   "outputs": [
    {
     "name": "stdout",
     "output_type": "stream",
     "text": [
      "* * * * * \n",
      "* * * * \n",
      "* * * \n",
      "* * \n",
      "* \n"
     ]
    }
   ],
   "source": [
    "i = 0\n",
    "n = 5\n",
    "while  i < n:\n",
    "    j=0\n",
    "    while j < n-i:\n",
    "        print('*', end=\" \")\n",
    "        j+=1\n",
    "    print()\n",
    "    i+=1"
   ]
  },
  {
   "cell_type": "code",
   "execution_count": 23,
   "id": "bd8feb90-ae1d-47dd-8ffd-618fa80a6444",
   "metadata": {},
   "outputs": [
    {
     "name": "stdout",
     "output_type": "stream",
     "text": [
      "01234\n",
      "0   4\n",
      "0   4\n",
      "0   4\n",
      "01234\n"
     ]
    }
   ],
   "source": [
    "i = 0\n",
    "n = 5\n",
    "while  i < n:\n",
    "    j=0\n",
    "    while j < n:\n",
    "        if i == 0 or i == n-1 or j==0 or j == n-1 :\n",
    "            print(j, end=\"\")\n",
    "        else:\n",
    "            print(\" \", end=\"\")\n",
    "        j+=1\n",
    "    print()\n",
    "    i+=1"
   ]
  },
  {
   "cell_type": "code",
   "execution_count": 24,
   "id": "39c6715f-2139-48de-96ed-4eae5a75eab4",
   "metadata": {},
   "outputs": [
    {
     "name": "stdout",
     "output_type": "stream",
     "text": [
      "*****\n",
      "*   *\n",
      "*****\n",
      "*   *\n",
      "*****\n"
     ]
    }
   ],
   "source": [
    "i =0\n",
    "n = 5\n",
    "while i < n:\n",
    "    j =0 \n",
    "    while j < n:\n",
    "        if i == 0 or j==0 or i == n-1 or j == n-1 or i==2:\n",
    "            print(\"*\", end=\"\")\n",
    "        else:\n",
    "            print(\" \", end=\"\")\n",
    "        j+=1\n",
    "    print()\n",
    "    i +=1"
   ]
  },
  {
   "cell_type": "code",
   "execution_count": 25,
   "id": "77d03100-05bf-430c-b193-abcfa3d145b0",
   "metadata": {},
   "outputs": [
    {
     "name": "stdout",
     "output_type": "stream",
     "text": [
      "*  *  *  *  *  \n",
      "*     *     *  \n",
      "*     *     *  \n",
      "*     *     *  \n",
      "*  *  *  *  *  \n"
     ]
    }
   ],
   "source": [
    "i =0\n",
    "n = 5\n",
    "while i < n:\n",
    "    j =0 \n",
    "    while j < n:\n",
    "        if i == 0 or j==0 or i == n-1 or j == n-1 or j==2:\n",
    "            print(\"*\", end=\"  \")\n",
    "        else:\n",
    "            print(\" \", end=\"  \")\n",
    "        j+=1\n",
    "    print()\n",
    "    i +=1"
   ]
  },
  {
   "cell_type": "code",
   "execution_count": 31,
   "id": "bf8205e5-7df1-4de6-8330-acf8c8cb8340",
   "metadata": {},
   "outputs": [
    {
     "name": "stdout",
     "output_type": "stream",
     "text": [
      "* * * * * \n",
      "  * * * * * \n",
      "    * * * * * \n",
      "      * * * * * \n",
      "        * * * * * \n"
     ]
    }
   ],
   "source": [
    "i = 0\n",
    "n = 5\n",
    "while i < n :\n",
    "    k = 0\n",
    "    while k < i:\n",
    "        print(\" \", end=\" \")\n",
    "        k += 1\n",
    "    \n",
    "    j =0\n",
    "    while j < n:\n",
    "        print(\"*\",end=\" \")\n",
    "        j +=1\n",
    "        \n",
    "    print()\n",
    "    i += 1"
   ]
  },
  {
   "cell_type": "code",
   "execution_count": 24,
   "id": "413deba8-ee7e-4874-b7ea-9381cf8d4a8c",
   "metadata": {},
   "outputs": [
    {
     "name": "stdout",
     "output_type": "stream",
     "text": [
      "          * * * * * \n",
      "        * * * * * \n",
      "      * * * * * \n",
      "    * * * * * \n",
      "  * * * * * \n"
     ]
    }
   ],
   "source": [
    "i = 0\n",
    "n = 5\n",
    "while i < n :\n",
    "    k = 0\n",
    "    while k < n-i:\n",
    "        print(\" \", end=\" \")\n",
    "        k += 1\n",
    "    \n",
    "    j = 0\n",
    "    while j < n:\n",
    "        print(\"*\",end=\" \")\n",
    "        j +=1\n",
    "        \n",
    "    print()\n",
    "    i += 1"
   ]
  },
  {
   "cell_type": "code",
   "execution_count": 54,
   "id": "fa8af688-b510-407e-9e82-8aa97eae1297",
   "metadata": {},
   "outputs": [
    {
     "name": "stdout",
     "output_type": "stream",
     "text": [
      "        0 \n",
      "      0 1 2 \n",
      "    0 1 2 3 4 \n",
      "  0 1 2 3 4 5 6 \n"
     ]
    }
   ],
   "source": [
    "i = 1\n",
    "n = 5\n",
    "while i < n:\n",
    "    \n",
    "    k = 0\n",
    "    while k < n-i:\n",
    "        print(\" \" , end=\" \")\n",
    "        k += 1\n",
    "        \n",
    "    j = 0\n",
    "    while j < i*2-1:\n",
    "        print(j , end=\" \")\n",
    "        j+=1\n",
    "        \n",
    "    print()\n",
    "    i += 1"
   ]
  },
  {
   "cell_type": "code",
   "execution_count": 69,
   "id": "7253dbaf-c4d3-4c41-877f-75cc7a192fb3",
   "metadata": {},
   "outputs": [
    {
     "name": "stdout",
     "output_type": "stream",
     "text": [
      "          * \n",
      "        * * \n",
      "      * * * \n",
      "    * * * * \n",
      "  * * * * * \n"
     ]
    }
   ],
   "source": [
    "i = 0\n",
    "n = 5\n",
    "while  i < n:\n",
    "    k =0 \n",
    "    while k < n-i:\n",
    "        print( \" \",end=\" \")\n",
    "        k += 1\n",
    "    \n",
    "    j = 0\n",
    "    while j < i+1:\n",
    "        print(\"*\", end=\" \")\n",
    "        j+=1\n",
    "\n",
    "    print()\n",
    "    i += 1"
   ]
  },
  {
   "cell_type": "code",
   "execution_count": 67,
   "id": "3422ee21-8703-4088-9fd4-f5e882f1397b",
   "metadata": {},
   "outputs": [
    {
     "name": "stdout",
     "output_type": "stream",
     "text": [
      "          * \n",
      "        *   * \n",
      "      *       * \n",
      "    *           * \n",
      "  * * * * * * * * * \n"
     ]
    }
   ],
   "source": [
    "i = 0\n",
    "n = 5\n",
    "while  i < n:\n",
    "    k =0 \n",
    "    while k < n-i:\n",
    "        print( \" \",end=\" \")\n",
    "        k += 1\n",
    "    \n",
    "    j = 0\n",
    "    while j < (i+1)*2-1:\n",
    "        if i == 0 or j == 0 or i == n-1 or j== (i+1)*2-2:\n",
    "            print(\"*\", end=\" \")\n",
    "        else:\n",
    "            print(\" \", end=\" \")\n",
    "        j+=1\n",
    "\n",
    "    print()\n",
    "    i += 1"
   ]
  },
  {
   "cell_type": "code",
   "execution_count": 5,
   "id": "19d48f23-1a3a-47f6-9b8b-0f632e4e55c2",
   "metadata": {},
   "outputs": [
    {
     "name": "stdout",
     "output_type": "stream",
     "text": [
      "    *\n",
      "   ***\n",
      "  *****\n",
      " *******\n",
      "*********\n",
      " *******\n",
      "  *****\n",
      "   ***\n",
      "    *\n"
     ]
    }
   ],
   "source": [
    "i = 0\n",
    "n = 5\n",
    "while i < n:\n",
    "    j = 0\n",
    "    while j < n-i-1:\n",
    "        print(\" \", end=\"\")\n",
    "        j += 1\n",
    "    k = 0\n",
    "    while k <((i+1)*2)-1:\n",
    "        print(\"*\", end=\"\")\n",
    "        k += 1\n",
    "    print()\n",
    "    i += 1\n",
    "    \n",
    "i = 0\n",
    "n = 4\n",
    "while i < n:\n",
    "    j = 0\n",
    "    while j < i+1:\n",
    "        print(\" \", end=\"\")\n",
    "        j += 1\n",
    "    k = 0\n",
    "    while k < (n-i)*2-1:\n",
    "        print(\"*\", end=\"\")\n",
    "        k += 1\n",
    "    print()\n",
    "    i += 1"
   ]
  },
  {
   "cell_type": "code",
   "execution_count": null,
   "id": "c5221e3f-3f52-44c1-ae9c-8552d7dd6d85",
   "metadata": {},
   "outputs": [],
   "source": []
  },
  {
   "cell_type": "code",
   "execution_count": null,
   "id": "9da8a3e7-fc50-4c2c-87e7-08adea486504",
   "metadata": {},
   "outputs": [],
   "source": []
  }
 ],
 "metadata": {
  "kernelspec": {
   "display_name": "Python [conda env:base] *",
   "language": "python",
   "name": "conda-base-py"
  },
  "language_info": {
   "codemirror_mode": {
    "name": "ipython",
    "version": 3
   },
   "file_extension": ".py",
   "mimetype": "text/x-python",
   "name": "python",
   "nbconvert_exporter": "python",
   "pygments_lexer": "ipython3",
   "version": "3.13.5"
  }
 },
 "nbformat": 4,
 "nbformat_minor": 5
}
